{
  "cells": [
    {
      "cell_type": "markdown",
      "metadata": {
        "id": "view-in-github",
        "colab_type": "text"
      },
      "source": [
        "<a href=\"https://colab.research.google.com/github/anmol-singh7/GenAI-Exploration/blob/main/ChromaDB.ipynb\" target=\"_parent\"><img src=\"https://colab.research.google.com/assets/colab-badge.svg\" alt=\"Open In Colab\"/></a>"
      ]
    },
    {
      "cell_type": "code",
      "execution_count": null,
      "metadata": {
        "id": "zxXmW5BvFMBz"
      },
      "outputs": [],
      "source": [
        "!pip install chromadb langchain langchain-community tiktoken huggingface_hub"
      ]
    },
    {
      "cell_type": "code",
      "execution_count": null,
      "metadata": {
        "collapsed": true,
        "id": "wL87QDlhmvA5"
      },
      "outputs": [],
      "source": [
        "!pip install sentence-transformers"
      ]
    },
    {
      "cell_type": "code",
      "execution_count": null,
      "metadata": {
        "id": "EdToWxHvKPyU"
      },
      "outputs": [],
      "source": [
        "!pip show chromadb"
      ]
    },
    {
      "cell_type": "code",
      "execution_count": null,
      "metadata": {
        "id": "jOsOsxgsKp45"
      },
      "outputs": [],
      "source": [
        "!wget -q https://www.dropbox.com/s/vs6ocyvpzzncvwh/new_articles.zip"
      ]
    },
    {
      "cell_type": "code",
      "execution_count": null,
      "metadata": {
        "id": "t3QVdxglLBho"
      },
      "outputs": [],
      "source": [
        "!unzip -q new_articles.zip -d new_articles"
      ]
    },
    {
      "cell_type": "code",
      "execution_count": null,
      "metadata": {
        "id": "oN_yOph9NNnE"
      },
      "outputs": [],
      "source": [
        "import os\n",
        "# from langchain.text_splitter import RecursiveCharacterTextSplitter\n",
        "from langchain_community.embeddings import HuggingFaceEmbeddings\n",
        "from langchain_community.llms import HuggingFaceHub\n",
        "from langchain.vectorstores import Chroma\n",
        "from langchain.document_loaders import DirectoryLoader, TextLoader\n",
        "import os\n",
        "import time"
      ]
    },
    {
      "cell_type": "code",
      "execution_count": null,
      "metadata": {
        "id": "9SndaZocMKHL"
      },
      "outputs": [],
      "source": [
        "os.environ[\"HUGGINGFACEHUB_API_TOKEN\"] = \"\""
      ]
    },
    {
      "cell_type": "code",
      "execution_count": null,
      "metadata": {
        "id": "CEkM_Qg0NJ4I"
      },
      "outputs": [],
      "source": [
        "loader = DirectoryLoader('/content/new_articles', glob=\"**/*.txt\", loader_cls=TextLoader)"
      ]
    },
    {
      "cell_type": "code",
      "execution_count": null,
      "metadata": {
        "id": "mkXVjoxePP6Q"
      },
      "outputs": [],
      "source": [
        "document = loader.load()"
      ]
    },
    {
      "cell_type": "code",
      "execution_count": null,
      "metadata": {
        "id": "9ucUgW0IPQpH"
      },
      "outputs": [],
      "source": [
        "document"
      ]
    },
    {
      "cell_type": "code",
      "execution_count": null,
      "metadata": {
        "id": "Cr_AeE1bSuys"
      },
      "outputs": [],
      "source": [
        "from langchain.text_splitter import RecursiveCharacterTextSplitter\n",
        "\n",
        "text_splitter = RecursiveCharacterTextSplitter(chunk_size=1000,chunk_overlap=200)\n",
        "text = text_splitter.split_documents(document)"
      ]
    },
    {
      "cell_type": "code",
      "execution_count": null,
      "metadata": {
        "id": "zno4gSssTRVA"
      },
      "outputs": [],
      "source": [
        "model_name = \"sentence-transformers/all-mpnet-base-v2\"\n",
        "encode_kwargs = {'normalize_embeddings': False}\n",
        "embedding = HuggingFaceEmbeddings(\n",
        "    model_name=model_name,\n",
        "    # model_kwargs=model_kwargs,\n",
        "    encode_kwargs=encode_kwargs\n",
        ")"
      ]
    },
    {
      "cell_type": "markdown",
      "metadata": {
        "id": "iItwAmE2nBQJ"
      },
      "source": [
        "### Creating DB"
      ]
    },
    {
      "cell_type": "code",
      "execution_count": null,
      "metadata": {
        "id": "QkZr_qMGmf8P"
      },
      "outputs": [],
      "source": [
        "persist_directory = \"db\"\n",
        "\n",
        "vectordb = Chroma.from_documents(\n",
        "    documents=text,\n",
        "    embedding=embedding,\n",
        "    persist_directory=persist_directory\n",
        ")"
      ]
    },
    {
      "cell_type": "code",
      "execution_count": null,
      "metadata": {
        "id": "-COvHz7jnPdY"
      },
      "outputs": [],
      "source": [
        "#persist the db to disk\n",
        "vectordb.persist()"
      ]
    },
    {
      "cell_type": "code",
      "execution_count": null,
      "metadata": {
        "id": "MQjrH_TiocRS"
      },
      "outputs": [],
      "source": [
        "vectordb =None"
      ]
    },
    {
      "cell_type": "code",
      "execution_count": null,
      "metadata": {
        "id": "LIooXBIzoA7M"
      },
      "outputs": [],
      "source": [
        "# Now we can load the persisted database from disk, and use it as normal.\n",
        "vectordb = Chroma(persist_directory=persist_directory, embedding_function=embedding)"
      ]
    },
    {
      "cell_type": "markdown",
      "metadata": {
        "id": "k0kmxhx3pJof"
      },
      "source": [
        "###MAKE a retriver"
      ]
    },
    {
      "cell_type": "code",
      "execution_count": null,
      "metadata": {
        "id": "J-ATV2Vconnb"
      },
      "outputs": [],
      "source": [
        "retriver = vectordb.as_retriever()"
      ]
    },
    {
      "cell_type": "code",
      "execution_count": null,
      "metadata": {
        "id": "7tpbfA4WpQis"
      },
      "outputs": [],
      "source": [
        "docs = retriver.get_relevant_documents(\"How much money did Microsoft raise\")"
      ]
    },
    {
      "cell_type": "code",
      "execution_count": null,
      "metadata": {
        "id": "TIJgersRpbtZ"
      },
      "outputs": [],
      "source": [
        "docs[3].page_content\n"
      ]
    },
    {
      "cell_type": "code",
      "execution_count": null,
      "metadata": {
        "id": "STp1JMEppmSY"
      },
      "outputs": [],
      "source": [
        "retriever = vectordb.as_retriever(search_kwargs={\"k\": 2})"
      ]
    },
    {
      "cell_type": "code",
      "execution_count": null,
      "metadata": {
        "id": "YE4P5eubq977"
      },
      "outputs": [],
      "source": [
        "docs2 = retriever.get_relevant_documents(\"How much money did Microsoft raise\")"
      ]
    },
    {
      "cell_type": "code",
      "execution_count": null,
      "metadata": {
        "id": "HTNsR3ZHrCuU"
      },
      "outputs": [],
      "source": [
        "len(docs2)"
      ]
    },
    {
      "cell_type": "code",
      "execution_count": null,
      "metadata": {
        "id": "E2ebP4yLrEoT"
      },
      "outputs": [],
      "source": [
        "model_name =\"google/byt5-small\"\n",
        "model_id = \"google/flan-t5-large\"\n",
        "llm = HuggingFaceHub(\n",
        "    repo_id=model_id,\n",
        "    model_kwargs={\"temperature\":0}\n",
        ")"
      ]
    },
    {
      "cell_type": "code",
      "source": [
        "from langchain.chains import RetrievalQA\n",
        "qa_chain = RetrievalQA.from_chain_type(llm=llm, chain_type=\"stuff\", retriever=retriever,return_source_documents=True)"
      ],
      "metadata": {
        "id": "k-dMEUnq2Omz"
      },
      "execution_count": null,
      "outputs": []
    },
    {
      "cell_type": "code",
      "source": [
        "def process_llm_response(llm_response):\n",
        "  print(llm_response['result'])\n",
        "  print(\"\\n\\nSource:\")\n",
        "  for source in llm_response['source_documents']:\n",
        "      print(source.metadata['source'])"
      ],
      "metadata": {
        "id": "LL-odJjQ2ZrH"
      },
      "execution_count": null,
      "outputs": []
    },
    {
      "cell_type": "code",
      "source": [
        "query=\"How much money did Microsoft raise?\""
      ],
      "metadata": {
        "id": "u35x4-9k2_66"
      },
      "execution_count": null,
      "outputs": []
    },
    {
      "cell_type": "code",
      "source": [
        "llm_response = qa_chain(query)"
      ],
      "metadata": {
        "id": "9GmJ8gOj3m8a"
      },
      "execution_count": null,
      "outputs": []
    },
    {
      "cell_type": "code",
      "source": [
        "llm_response"
      ],
      "metadata": {
        "id": "BtEsW4qA3vJb"
      },
      "execution_count": null,
      "outputs": []
    },
    {
      "cell_type": "code",
      "source": [
        "process_llm_response(llm_response)"
      ],
      "metadata": {
        "id": "lXiaaF0M3ySt",
        "colab": {
          "base_uri": "https://localhost:8080/"
        },
        "outputId": "b287eaa0-4258-42e7-f9a8-e2359b5e74c4"
      },
      "execution_count": null,
      "outputs": [
        {
          "output_type": "stream",
          "name": "stdout",
          "text": [
            "$10 billion\n",
            "\n",
            "\n",
            "Source:\n",
            "/content/new_articles/05-03-chatgpt-everything-you-need-to-know-about-the-ai-powered-chatbot.txt\n",
            "/content/new_articles/05-07-fintech-space-continues-to-be-competitive-and-drama-filled.txt\n"
          ]
        }
      ]
    },
    {
      "cell_type": "markdown",
      "source": [
        "###Delete the DB"
      ],
      "metadata": {
        "id": "jHyXlKm79MaN"
      }
    },
    {
      "cell_type": "code",
      "source": [
        "# !zip -r db.zip ./db"
      ],
      "metadata": {
        "id": "ikv_pPW945hZ",
        "colab": {
          "base_uri": "https://localhost:8080/"
        },
        "outputId": "49751988-fd3c-4c7a-b1f5-8ef4f2c30c06"
      },
      "execution_count": null,
      "outputs": [
        {
          "output_type": "stream",
          "name": "stdout",
          "text": [
            "  adding: db/ (stored 0%)\n",
            "  adding: db/chroma.sqlite3 (deflated 50%)\n",
            "  adding: db/748fe339-5531-41c7-89c6-c9c8af76cf64/ (stored 0%)\n",
            "  adding: db/748fe339-5531-41c7-89c6-c9c8af76cf64/length.bin (deflated 56%)\n",
            "  adding: db/748fe339-5531-41c7-89c6-c9c8af76cf64/link_lists.bin (stored 0%)\n",
            "  adding: db/748fe339-5531-41c7-89c6-c9c8af76cf64/data_level0.bin (deflated 14%)\n",
            "  adding: db/748fe339-5531-41c7-89c6-c9c8af76cf64/header.bin (deflated 61%)\n"
          ]
        }
      ]
    },
    {
      "cell_type": "code",
      "source": [
        "#To cleanup, you can delete the collections\n",
        "# vectordb.delete_collection()\n",
        "# vectordb.persist()"
      ],
      "metadata": {
        "id": "SkdAuKyi9VRI"
      },
      "execution_count": null,
      "outputs": []
    },
    {
      "cell_type": "code",
      "source": [
        "#delete the directory\n",
        "# !rm -rf db/"
      ],
      "metadata": {
        "id": "6R6SQFy99gSk"
      },
      "execution_count": null,
      "outputs": []
    },
    {
      "cell_type": "code",
      "source": [
        "# !rm -rf db.zip"
      ],
      "metadata": {
        "id": "vOuQHGkE9ndT"
      },
      "execution_count": null,
      "outputs": []
    },
    {
      "cell_type": "code",
      "source": [],
      "metadata": {
        "id": "IJBznHV59uKc"
      },
      "execution_count": null,
      "outputs": []
    }
  ],
  "metadata": {
    "colab": {
      "provenance": [],
      "include_colab_link": true
    },
    "kernelspec": {
      "display_name": "Python 3",
      "name": "python3"
    },
    "language_info": {
      "name": "python"
    }
  },
  "nbformat": 4,
  "nbformat_minor": 0
}